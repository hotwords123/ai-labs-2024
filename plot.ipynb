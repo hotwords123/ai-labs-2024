{
 "cells": [
  {
   "cell_type": "code",
   "execution_count": null,
   "metadata": {},
   "outputs": [],
   "source": [
    "import numpy as np\n",
    "from scipy import stats\n",
    "import pandas as pd\n",
    "from pathlib import Path\n",
    "import re\n",
    "\n",
    "rate_re = re.compile(r\"(\\(([\\d.]+)%\\))\")\n",
    "n_match = 1000\n",
    "alpha = 0.05\n",
    "z = stats.norm.ppf(1 - alpha / 2)\n",
    "data = []\n",
    "\n",
    "for file in Path(\"results/search_c\").glob(\"*.txt\"):\n",
    "    C = float(file.stem)\n",
    "    with file.open() as f:\n",
    "        lines = f.readlines()\n",
    "    # get the non-lose rate\n",
    "    p = float(rate_re.search(lines[-1]).group(2)) / 100\n",
    "    # get the confidence interval\n",
    "    ci = z * np.sqrt(p * (1 - p) / n_match)\n",
    "    data.append((C, p, ci))\n",
    "\n",
    "df = pd.DataFrame(data, columns=[\"C\", \"p\", \"ci\"])\n",
    "df = df.sort_values(\"C\")\n",
    "df"
   ]
  },
  {
   "cell_type": "code",
   "execution_count": null,
   "metadata": {},
   "outputs": [],
   "source": [
    "import matplotlib.pyplot as plt\n",
    "\n",
    "X = np.arange(len(df))\n",
    "plt.errorbar(X, df[\"p\"], yerr=df[\"ci\"], fmt=\"o-\", capsize=3, ecolor=\"gray\", label=\"Non-lose rate of UCT\")\n",
    "plt.xticks(X, labels=df[\"C\"])\n",
    "plt.xlabel(\"$C$\")\n",
    "plt.ylabel(\"$p$\")\n",
    "plt.title(\"Alpha-beta vs UCT\")\n",
    "plt.legend()\n",
    "plt.tight_layout()\n",
    "plt.savefig(\"results/search_c.svg\")\n",
    "plt.show()"
   ]
  }
 ],
 "metadata": {
  "kernelspec": {
   "display_name": "ailab",
   "language": "python",
   "name": "python3"
  },
  "language_info": {
   "codemirror_mode": {
    "name": "ipython",
    "version": 3
   },
   "file_extension": ".py",
   "mimetype": "text/x-python",
   "name": "python",
   "nbconvert_exporter": "python",
   "pygments_lexer": "ipython3",
   "version": "3.11.9"
  }
 },
 "nbformat": 4,
 "nbformat_minor": 2
}
